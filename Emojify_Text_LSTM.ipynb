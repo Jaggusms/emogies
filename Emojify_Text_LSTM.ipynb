{
 "cells": [
  {
   "cell_type": "code",
   "execution_count": 1,
   "id": "confidential-intermediate",
   "metadata": {},
   "outputs": [],
   "source": [
    "import numpy as np\n",
    "import pandas as pd\n",
    "import emoji\n",
    "\n",
    "from keras.models import Sequential\n",
    "from keras.layers import Dense, LSTM, SimpleRNN, Embedding\n",
    "\n",
    "from keras.preprocessing.text import Tokenizer\n",
    "from keras.utils import pad_sequences\n",
    "from tensorflow.keras.utils import to_categorical"
   ]
  },
  {
   "cell_type": "code",
   "execution_count": 2,
   "id": "future-seeking",
   "metadata": {},
   "outputs": [
    {
     "data": {
      "text/html": [
       "<div>\n",
       "<style scoped>\n",
       "    .dataframe tbody tr th:only-of-type {\n",
       "        vertical-align: middle;\n",
       "    }\n",
       "\n",
       "    .dataframe tbody tr th {\n",
       "        vertical-align: top;\n",
       "    }\n",
       "\n",
       "    .dataframe thead th {\n",
       "        text-align: right;\n",
       "    }\n",
       "</style>\n",
       "<table border=\"1\" class=\"dataframe\">\n",
       "  <thead>\n",
       "    <tr style=\"text-align: right;\">\n",
       "      <th></th>\n",
       "      <th>0</th>\n",
       "      <th>1</th>\n",
       "    </tr>\n",
       "  </thead>\n",
       "  <tbody>\n",
       "    <tr>\n",
       "      <th>0</th>\n",
       "      <td>French macaroon is so tasty</td>\n",
       "      <td>4</td>\n",
       "    </tr>\n",
       "    <tr>\n",
       "      <th>1</th>\n",
       "      <td>work is horrible</td>\n",
       "      <td>3</td>\n",
       "    </tr>\n",
       "    <tr>\n",
       "      <th>2</th>\n",
       "      <td>I am upset</td>\n",
       "      <td>3</td>\n",
       "    </tr>\n",
       "    <tr>\n",
       "      <th>3</th>\n",
       "      <td>throw the ball</td>\n",
       "      <td>1</td>\n",
       "    </tr>\n",
       "    <tr>\n",
       "      <th>4</th>\n",
       "      <td>Good joke</td>\n",
       "      <td>2</td>\n",
       "    </tr>\n",
       "  </tbody>\n",
       "</table>\n",
       "</div>"
      ],
      "text/plain": [
       "                             0  1\n",
       "0  French macaroon is so tasty  4\n",
       "1             work is horrible  3\n",
       "2                   I am upset  3\n",
       "3               throw the ball  1\n",
       "4                    Good joke  2"
      ]
     },
     "execution_count": 2,
     "metadata": {},
     "output_type": "execute_result"
    }
   ],
   "source": [
    "data = pd.read_csv('emoji_data.csv', header = None)\n",
    "data.head()"
   ]
  },
  {
   "cell_type": "code",
   "execution_count": 3,
   "id": "hollywood-simulation",
   "metadata": {},
   "outputs": [],
   "source": [
    "emoji_dict = {\n",
    "    0: \":red_heart:\",\n",
    "    1: \":baseball:\",\n",
    "    2: \":grinning_face_with_big_eyes:\",\n",
    "    3: \":disappointed_face:\",\n",
    "    4: \":fork_and_knife_with_plate:\",\n",
    "    5: \":cold_face:\"\n",
    "    \n",
    "}\n",
    "\n",
    "def label_to_emoji(label):\n",
    "    return emoji.emojize(emoji_dict[label])"
   ]
  },
  {
   "cell_type": "code",
   "execution_count": 4,
   "id": "indoor-recipient",
   "metadata": {},
   "outputs": [
    {
     "data": {
      "text/plain": [
       "183"
      ]
     },
     "execution_count": 4,
     "metadata": {},
     "output_type": "execute_result"
    }
   ],
   "source": [
    "X = data[0].values\n",
    "Y = data[1].values\n",
    "len(X)"
   ]
  },
  {
   "cell_type": "markdown",
   "id": "concerned-oxide",
   "metadata": {},
   "source": [
    "# Embeddings"
   ]
  },
  {
   "cell_type": "code",
   "execution_count": 5,
   "id": "buried-opposition",
   "metadata": {},
   "outputs": [],
   "source": [
    "file = open('glove/glove.6B.100d.txt', 'r', encoding = 'utf8')\n",
    "content = file.readlines()\n",
    "file.close()\n",
    "\n",
    "# content"
   ]
  },
  {
   "cell_type": "code",
   "execution_count": null,
   "id": "fef8b0d7",
   "metadata": {},
   "outputs": [],
   "source": []
  },
  {
   "cell_type": "code",
   "execution_count": 6,
   "id": "based-response",
   "metadata": {},
   "outputs": [],
   "source": [
    "embeddings = {}\n",
    "\n",
    "for line in content:\n",
    "    line = line.split()\n",
    "    embeddings[line[0]] = np.array(line[1:], dtype = float)"
   ]
  },
  {
   "cell_type": "code",
   "execution_count": 7,
   "id": "coordinate-color",
   "metadata": {},
   "outputs": [
    {
     "data": {
      "text/plain": [
       "400001"
      ]
     },
     "execution_count": 7,
     "metadata": {},
     "output_type": "execute_result"
    }
   ],
   "source": [
    "len(list(embeddings.items()))"
   ]
  },
  {
   "cell_type": "code",
   "execution_count": 8,
   "id": "manual-maryland",
   "metadata": {
    "scrolled": false
   },
   "outputs": [
    {
     "name": "stdout",
     "output_type": "stream",
     "text": [
      "312\n"
     ]
    }
   ],
   "source": [
    "tokenizer = Tokenizer()\n",
    "tokenizer.fit_on_texts(X)\n",
    "word2index = tokenizer.word_index\n",
    "print(len(word2index))"
   ]
  },
  {
   "cell_type": "code",
   "execution_count": 9,
   "id": "3b1d724e",
   "metadata": {},
   "outputs": [
    {
     "name": "stdout",
     "output_type": "stream",
     "text": [
      "[[103, 104, 3, 6, 105], [106, 3, 107], [1, 7, 108], [109, 4, 35], [36, 30], [37, 3, 19, 110, 26, 49], [1, 111, 112], [31, 67, 113], [1, 20, 114, 27], [115, 68, 38, 69, 26]]\n"
     ]
    }
   ],
   "source": [
    "Xtokens = tokenizer.texts_to_sequences(X)\n",
    "print(Xtokens[:10])"
   ]
  },
  {
   "cell_type": "code",
   "execution_count": 10,
   "id": "7b631f24",
   "metadata": {},
   "outputs": [
    {
     "name": "stdout",
     "output_type": "stream",
     "text": [
      "10\n"
     ]
    }
   ],
   "source": [
    "def get_maxlen(data):\n",
    "    maxlen = 0\n",
    "    for sent in data:\n",
    "        maxlen = max(maxlen, len(sent))\n",
    "    return maxlen\n",
    "\n",
    "maxlen = get_maxlen(Xtokens)\n",
    "print(maxlen)"
   ]
  },
  {
   "cell_type": "code",
   "execution_count": 11,
   "id": "recovered-fortune",
   "metadata": {
    "scrolled": false
   },
   "outputs": [
    {
     "data": {
      "text/plain": [
       "array([[103, 104,   3,   6, 105,   0,   0,   0,   0,   0],\n",
       "       [106,   3, 107,   0,   0,   0,   0,   0,   0,   0],\n",
       "       [  1,   7, 108,   0,   0,   0,   0,   0,   0,   0],\n",
       "       [109,   4,  35,   0,   0,   0,   0,   0,   0,   0],\n",
       "       [ 36,  30,   0,   0,   0,   0,   0,   0,   0,   0],\n",
       "       [ 37,   3,  19, 110,  26,  49,   0,   0,   0,   0],\n",
       "       [  1, 111, 112,   0,   0,   0,   0,   0,   0,   0],\n",
       "       [ 31,  67, 113,   0,   0,   0,   0,   0,   0,   0],\n",
       "       [  1,  20, 114,  27,   0,   0,   0,   0,   0,   0],\n",
       "       [115,  68,  38,  69,  26,   0,   0,   0,   0,   0]])"
      ]
     },
     "execution_count": 11,
     "metadata": {},
     "output_type": "execute_result"
    }
   ],
   "source": [
    "Xtrain = pad_sequences(Xtokens, maxlen = maxlen,  padding = 'post', truncating = 'post')\n",
    "Xtrain[:10]"
   ]
  },
  {
   "cell_type": "code",
   "execution_count": 12,
   "id": "polyphonic-cannon",
   "metadata": {},
   "outputs": [
    {
     "data": {
      "text/plain": [
       "183"
      ]
     },
     "execution_count": 12,
     "metadata": {},
     "output_type": "execute_result"
    }
   ],
   "source": [
    "Ytrain = to_categorical(Y)\n",
    "len(Ytrain)"
   ]
  },
  {
   "cell_type": "markdown",
   "id": "greatest-violin",
   "metadata": {},
   "source": [
    "# Model"
   ]
  },
  {
   "cell_type": "code",
   "execution_count": 13,
   "id": "intended-rapid",
   "metadata": {},
   "outputs": [
    {
     "name": "stdout",
     "output_type": "stream",
     "text": [
      "[0. 0. 0. 0. 0. 0. 0. 0. 0. 0. 0. 0. 0. 0. 0. 0. 0. 0. 0. 0. 0. 0. 0. 0.\n",
      " 0. 0. 0. 0. 0. 0. 0. 0. 0. 0. 0. 0. 0. 0. 0. 0. 0. 0. 0. 0. 0. 0. 0. 0.\n",
      " 0. 0. 0. 0. 0. 0. 0. 0. 0. 0. 0. 0. 0. 0. 0. 0. 0. 0. 0. 0. 0. 0. 0. 0.\n",
      " 0. 0. 0. 0. 0. 0. 0. 0. 0. 0. 0. 0. 0. 0. 0. 0. 0. 0. 0. 0. 0. 0. 0. 0.\n",
      " 0. 0. 0. 0.]\n"
     ]
    }
   ],
   "source": [
    "embed_size = 100\n",
    "embedding_matrix = np.zeros((len(word2index)+1, embed_size))\n",
    "print(embedding_matrix[1])\n",
    "for word, i in word2index.items():\n",
    "    embed_vector = embeddings[word]\n",
    "    embedding_matrix[i] = embed_vector"
   ]
  },
  {
   "cell_type": "code",
   "execution_count": 14,
   "id": "weighted-relationship",
   "metadata": {},
   "outputs": [
    {
     "data": {
      "text/plain": [
       "313"
      ]
     },
     "execution_count": 14,
     "metadata": {},
     "output_type": "execute_result"
    }
   ],
   "source": [
    "len(embedding_matrix)"
   ]
  },
  {
   "cell_type": "code",
   "execution_count": 15,
   "id": "homeless-single",
   "metadata": {},
   "outputs": [],
   "source": [
    "model = Sequential([\n",
    "    Embedding(input_dim = len(word2index) + 1,\n",
    "              output_dim = embed_size,\n",
    "              input_length = maxlen,\n",
    "              weights = [embedding_matrix],\n",
    "              trainable = False\n",
    "             ),\n",
    "    \n",
    "    LSTM(units = 16, return_sequences = True),\n",
    "    LSTM(units = 4),\n",
    "    Dense(5, activation = 'softmax')\n",
    "])\n",
    "\n",
    "model.compile(optimizer = 'adam', loss = 'categorical_crossentropy', metrics = ['accuracy'])"
   ]
  },
  {
   "cell_type": "code",
   "execution_count": 16,
   "id": "technical-possible",
   "metadata": {},
   "outputs": [
    {
     "name": "stdout",
     "output_type": "stream",
     "text": [
      "Epoch 1/75\n",
      "6/6 [==============================] - 10s 17ms/step - loss: 1.5846 - accuracy: 0.2077\n",
      "Epoch 2/75\n",
      "6/6 [==============================] - 0s 16ms/step - loss: 1.5603 - accuracy: 0.2240\n",
      "Epoch 3/75\n",
      "6/6 [==============================] - 0s 17ms/step - loss: 1.5428 - accuracy: 0.3224\n",
      "Epoch 4/75\n",
      "6/6 [==============================] - 0s 28ms/step - loss: 1.5280 - accuracy: 0.3661\n",
      "Epoch 5/75\n",
      "6/6 [==============================] - 0s 39ms/step - loss: 1.5129 - accuracy: 0.3661\n",
      "Epoch 6/75\n",
      "6/6 [==============================] - 0s 27ms/step - loss: 1.4975 - accuracy: 0.3934\n",
      "Epoch 7/75\n",
      "6/6 [==============================] - 0s 24ms/step - loss: 1.4774 - accuracy: 0.4208\n",
      "Epoch 8/75\n",
      "6/6 [==============================] - 0s 21ms/step - loss: 1.4548 - accuracy: 0.4590\n",
      "Epoch 9/75\n",
      "6/6 [==============================] - 0s 18ms/step - loss: 1.4270 - accuracy: 0.4536\n",
      "Epoch 10/75\n",
      "6/6 [==============================] - 0s 16ms/step - loss: 1.3938 - accuracy: 0.4918\n",
      "Epoch 11/75\n",
      "6/6 [==============================] - 0s 17ms/step - loss: 1.3608 - accuracy: 0.5137\n",
      "Epoch 12/75\n",
      "6/6 [==============================] - 0s 17ms/step - loss: 1.3230 - accuracy: 0.5574\n",
      "Epoch 13/75\n",
      "6/6 [==============================] - 0s 25ms/step - loss: 1.2850 - accuracy: 0.6230\n",
      "Epoch 14/75\n",
      "6/6 [==============================] - 0s 18ms/step - loss: 1.2441 - accuracy: 0.6612\n",
      "Epoch 15/75\n",
      "6/6 [==============================] - 0s 18ms/step - loss: 1.2046 - accuracy: 0.6557\n",
      "Epoch 16/75\n",
      "6/6 [==============================] - 0s 33ms/step - loss: 1.1577 - accuracy: 0.6885\n",
      "Epoch 17/75\n",
      "6/6 [==============================] - 0s 19ms/step - loss: 1.1118 - accuracy: 0.6776\n",
      "Epoch 18/75\n",
      "6/6 [==============================] - 0s 19ms/step - loss: 1.0639 - accuracy: 0.6721\n",
      "Epoch 19/75\n",
      "6/6 [==============================] - 0s 21ms/step - loss: 1.0183 - accuracy: 0.7104\n",
      "Epoch 20/75\n",
      "6/6 [==============================] - 0s 19ms/step - loss: 0.9680 - accuracy: 0.6940\n",
      "Epoch 21/75\n",
      "6/6 [==============================] - 0s 18ms/step - loss: 0.9267 - accuracy: 0.6995\n",
      "Epoch 22/75\n",
      "6/6 [==============================] - 0s 18ms/step - loss: 0.8702 - accuracy: 0.7377\n",
      "Epoch 23/75\n",
      "6/6 [==============================] - 0s 18ms/step - loss: 0.8194 - accuracy: 0.7923\n",
      "Epoch 24/75\n",
      "6/6 [==============================] - 0s 21ms/step - loss: 0.7854 - accuracy: 0.8033\n",
      "Epoch 25/75\n",
      "6/6 [==============================] - 0s 21ms/step - loss: 0.7421 - accuracy: 0.8033\n",
      "Epoch 26/75\n",
      "6/6 [==============================] - 0s 22ms/step - loss: 0.7057 - accuracy: 0.8361\n",
      "Epoch 27/75\n",
      "6/6 [==============================] - 0s 18ms/step - loss: 0.6672 - accuracy: 0.8470\n",
      "Epoch 28/75\n",
      "6/6 [==============================] - 0s 21ms/step - loss: 0.6575 - accuracy: 0.8634\n",
      "Epoch 29/75\n",
      "6/6 [==============================] - 0s 22ms/step - loss: 0.6323 - accuracy: 0.8798\n",
      "Epoch 30/75\n",
      "6/6 [==============================] - 0s 22ms/step - loss: 0.6009 - accuracy: 0.8907\n",
      "Epoch 31/75\n",
      "6/6 [==============================] - 0s 63ms/step - loss: 0.5735 - accuracy: 0.8798\n",
      "Epoch 32/75\n",
      "6/6 [==============================] - 0s 26ms/step - loss: 0.5536 - accuracy: 0.9016\n",
      "Epoch 33/75\n",
      "6/6 [==============================] - 0s 21ms/step - loss: 0.5303 - accuracy: 0.9126\n",
      "Epoch 34/75\n",
      "6/6 [==============================] - 0s 22ms/step - loss: 0.5229 - accuracy: 0.9126\n",
      "Epoch 35/75\n",
      "6/6 [==============================] - 0s 17ms/step - loss: 0.5088 - accuracy: 0.9126\n",
      "Epoch 36/75\n",
      "6/6 [==============================] - 0s 16ms/step - loss: 0.4960 - accuracy: 0.9180\n",
      "Epoch 37/75\n",
      "6/6 [==============================] - 0s 17ms/step - loss: 0.4781 - accuracy: 0.9180\n",
      "Epoch 38/75\n",
      "6/6 [==============================] - 0s 21ms/step - loss: 0.4713 - accuracy: 0.9344\n",
      "Epoch 39/75\n",
      "6/6 [==============================] - 0s 17ms/step - loss: 0.4735 - accuracy: 0.9235\n",
      "Epoch 40/75\n",
      "6/6 [==============================] - 0s 16ms/step - loss: 0.4540 - accuracy: 0.9344\n",
      "Epoch 41/75\n",
      "6/6 [==============================] - 0s 16ms/step - loss: 0.4430 - accuracy: 0.9235\n",
      "Epoch 42/75\n",
      "6/6 [==============================] - 0s 21ms/step - loss: 0.4354 - accuracy: 0.9344\n",
      "Epoch 43/75\n",
      "6/6 [==============================] - 0s 37ms/step - loss: 0.4250 - accuracy: 0.9344\n",
      "Epoch 44/75\n",
      "6/6 [==============================] - 0s 26ms/step - loss: 0.4214 - accuracy: 0.9344\n",
      "Epoch 45/75\n",
      "6/6 [==============================] - 0s 18ms/step - loss: 0.4210 - accuracy: 0.9344\n",
      "Epoch 46/75\n",
      "6/6 [==============================] - 0s 18ms/step - loss: 0.4144 - accuracy: 0.9454\n",
      "Epoch 47/75\n",
      "6/6 [==============================] - 0s 17ms/step - loss: 0.4219 - accuracy: 0.9399\n",
      "Epoch 48/75\n",
      "6/6 [==============================] - 0s 17ms/step - loss: 0.4067 - accuracy: 0.9399\n",
      "Epoch 49/75\n",
      "6/6 [==============================] - 0s 19ms/step - loss: 0.4021 - accuracy: 0.9399\n",
      "Epoch 50/75\n",
      "6/6 [==============================] - 0s 18ms/step - loss: 0.3849 - accuracy: 0.9563\n",
      "Epoch 51/75\n",
      "6/6 [==============================] - 0s 17ms/step - loss: 0.3771 - accuracy: 0.9508\n",
      "Epoch 52/75\n",
      "6/6 [==============================] - 0s 16ms/step - loss: 0.3739 - accuracy: 0.9508\n",
      "Epoch 53/75\n",
      "6/6 [==============================] - 0s 23ms/step - loss: 0.3700 - accuracy: 0.9454\n",
      "Epoch 54/75\n",
      "6/6 [==============================] - 0s 18ms/step - loss: 0.3654 - accuracy: 0.9508\n",
      "Epoch 55/75\n",
      "6/6 [==============================] - 0s 21ms/step - loss: 0.3554 - accuracy: 0.9563\n",
      "Epoch 56/75\n",
      "6/6 [==============================] - 0s 21ms/step - loss: 0.3499 - accuracy: 0.9563\n",
      "Epoch 57/75\n",
      "6/6 [==============================] - 0s 22ms/step - loss: 0.3452 - accuracy: 0.9563\n",
      "Epoch 58/75\n",
      "6/6 [==============================] - 0s 20ms/step - loss: 0.3418 - accuracy: 0.9563\n",
      "Epoch 59/75\n",
      "6/6 [==============================] - 0s 22ms/step - loss: 0.3381 - accuracy: 0.9563\n",
      "Epoch 60/75\n",
      "6/6 [==============================] - 0s 17ms/step - loss: 0.3351 - accuracy: 0.9563\n",
      "Epoch 61/75\n",
      "6/6 [==============================] - 0s 21ms/step - loss: 0.3322 - accuracy: 0.9563\n",
      "Epoch 62/75\n",
      "6/6 [==============================] - 0s 18ms/step - loss: 0.3276 - accuracy: 0.9563\n",
      "Epoch 63/75\n",
      "6/6 [==============================] - 0s 19ms/step - loss: 0.3239 - accuracy: 0.9563\n",
      "Epoch 64/75\n",
      "6/6 [==============================] - 0s 22ms/step - loss: 0.3212 - accuracy: 0.9617\n",
      "Epoch 65/75\n",
      "6/6 [==============================] - 0s 24ms/step - loss: 0.3183 - accuracy: 0.9617\n",
      "Epoch 66/75\n",
      "6/6 [==============================] - 0s 24ms/step - loss: 0.3150 - accuracy: 0.9617\n",
      "Epoch 67/75\n",
      "6/6 [==============================] - 0s 21ms/step - loss: 0.3128 - accuracy: 0.9617\n",
      "Epoch 68/75\n",
      "6/6 [==============================] - 0s 24ms/step - loss: 0.3106 - accuracy: 0.9617\n",
      "Epoch 69/75\n",
      "6/6 [==============================] - 0s 23ms/step - loss: 0.3077 - accuracy: 0.9617\n",
      "Epoch 70/75\n",
      "6/6 [==============================] - 0s 25ms/step - loss: 0.3200 - accuracy: 0.9563\n",
      "Epoch 71/75\n",
      "6/6 [==============================] - 0s 23ms/step - loss: 0.3080 - accuracy: 0.9617\n",
      "Epoch 72/75\n",
      "6/6 [==============================] - 0s 27ms/step - loss: 0.2990 - accuracy: 0.9672\n",
      "Epoch 73/75\n",
      "6/6 [==============================] - 0s 21ms/step - loss: 0.3117 - accuracy: 0.9617\n",
      "Epoch 74/75\n",
      "6/6 [==============================] - 0s 24ms/step - loss: 0.3076 - accuracy: 0.9563\n",
      "Epoch 75/75\n",
      "6/6 [==============================] - 0s 22ms/step - loss: 0.3022 - accuracy: 0.9617\n"
     ]
    },
    {
     "data": {
      "text/plain": [
       "<keras.callbacks.History at 0x21f8bfd17b0>"
      ]
     },
     "execution_count": 16,
     "metadata": {},
     "output_type": "execute_result"
    }
   ],
   "source": [
    "model.fit(Xtrain, Ytrain, epochs = 75)"
   ]
  },
  {
   "cell_type": "code",
   "execution_count": 17,
   "id": "convertible-spider",
   "metadata": {},
   "outputs": [
    {
     "name": "stdout",
     "output_type": "stream",
     "text": [
      "[[41], [1, 280, 41], [66, 94, 44]]\n",
      "[[ 41   0   0   0   0   0   0   0   0   0]\n",
      " [  1 280  41   0   0   0   0   0   0   0]\n",
      " [ 66  94  44   0   0   0   0   0   0   0]]\n",
      "1/1 [==============================] - 2s 2s/step\n",
      "[[0.08417216 0.03936651 0.00999647 0.8623348  0.00413017]\n",
      " [0.08103221 0.03294845 0.0079678  0.87486017 0.0031913 ]\n",
      " [0.02435349 0.06356906 0.24619932 0.00263697 0.66324115]]\n",
      "[3 3 4]\n",
      "bad 😞\n",
      "I feel very bad 😞\n",
      "lets eat dinner 🍽️\n"
     ]
    }
   ],
   "source": [
    "test = [\"bad\", \"I feel very bad\", \"lets eat dinner\"]\n",
    "\n",
    "test_seq = tokenizer.texts_to_sequences(test)\n",
    "print(test_seq[:10])\n",
    "Xtest = pad_sequences(test_seq, maxlen = maxlen, padding = 'post', truncating = 'post')\n",
    "print(Xtest[:10])\n",
    "y_pred = model.predict(Xtest)\n",
    "print(y_pred[:10])\n",
    "y_pred = np.argmax(y_pred, axis = 1)\n",
    "print(y_pred[:10])\n",
    "for i in range(len(test)):\n",
    "    print(test[i], label_to_emoji(y_pred[i]))"
   ]
  },
  {
   "cell_type": "code",
   "execution_count": 18,
   "id": "incorporated-detector",
   "metadata": {},
   "outputs": [],
   "source": [
    "model.save(\"network1.h5\")\n"
   ]
  },
  {
   "cell_type": "code",
   "execution_count": null,
   "id": "15f5ba22",
   "metadata": {},
   "outputs": [],
   "source": []
  }
 ],
 "metadata": {
  "kernelspec": {
   "display_name": "Python 3 (ipykernel)",
   "language": "python",
   "name": "python3"
  },
  "language_info": {
   "codemirror_mode": {
    "name": "ipython",
    "version": 3
   },
   "file_extension": ".py",
   "mimetype": "text/x-python",
   "name": "python",
   "nbconvert_exporter": "python",
   "pygments_lexer": "ipython3",
   "version": "3.10.9"
  }
 },
 "nbformat": 4,
 "nbformat_minor": 5
}
